{
 "cells": [
  {
   "cell_type": "markdown",
   "metadata": {},
   "source": [
    "# TensorFlow Installation"
   ]
  },
  {
   "cell_type": "markdown",
   "metadata": {},
   "source": [
    "A walkthrough to install TensorFlow for Python 3.6. If you already have TensorFlow on your machine and feel confident in your installation, you can go ahead and skip this notebook.\n",
    "\n",
    "For the purposes of this tutorial, I'm recommending using Anaconda as your Python distribution and for managing your environments. If you'd rather use some other distribution or version of Python and feel confident in your abilities, you may also choose to just follow the instructions here: https://www.tensorflow.org/install/."
   ]
  },
  {
   "cell_type": "markdown",
   "metadata": {},
   "source": [
    "#### TensorFlow version\n",
    "\n",
    "These instructions are for installing TensorFlow 1.14.\n",
    "The current default release of TensorFlow is 2.0, which contains breaking changes and a different coding philosophy. \n",
    "The rest of the notebooks in this course are written for 1.x and are thus incompatible with the latest version (unless you use the compat.v1 library).\n",
    "These notebooks will be updated to be compatible with 2.0 in the near future, but in the meantime, you'll find that TensorFlow 1.x is just as good for demonstrating core machine learning concepts!"
   ]
  },
  {
   "cell_type": "markdown",
   "metadata": {},
   "source": [
    "### Install Anaconda\n",
    "Download and install Anaconda. A more detailed version of the below steps specifically for Windows (macOS and Linux instructions are similar) can be found [here](https://www.datacamp.com/community/tutorials/installing-anaconda-windows) if you need additional assistance.\n",
    "\n",
    "1. Go to the [Anaconda install page](https://www.anaconda.com/distribution/) and click on the Python 3.7 installer matching your operating system (e.g. Windows, macOS, Linux) and system architecture (likely 64-bit X86).\n",
    "    \n",
    "2. Open the installer from your downloads folder and run it by double clicking on it. \n",
    "    \n",
    "3. Follow the installer's instructions. \n",
    "    \n",
    "*Note: there is an option at one point to add Anaconda to PATH. While the installer recommends against this option (it's possible it may interfere with your other software), we typically recommend doing so, as it makes accessing Anaconda commands easier. The rest of this tutorial assumes that this option has been selected.*"
   ]
  },
  {
   "cell_type": "markdown",
   "metadata": {},
   "source": [
    "### Set-up a conda environment\n",
    "\n",
    "1. Open a Command Prompt (Windows) or a terminal (macOS or Linux)\n",
    "\n",
    "    *Note: If you chose not to add Anaconda to PATH during Anaconda installation above, you will need to use the Anaconda Command Prompt instead.*\n",
    "2. Create a conda environment for TensorFlow:\n",
    "    ```Shell\n",
    "    conda create -n tensorflow python=3.6\n",
    "    ```\n",
    "3. Activate your new environment:\n",
    "\n",
    "    ```Shell \n",
    "    conda activate tensorflow\n",
    "    ```\n",
    "4. Install some supporting dependencies\n",
    "    ```Shell\n",
    "    conda install h5py imageio jupyter matplotlib numpy tqdm\n",
    "    ```\n",
    "\n",
    "5. Install either the CPU version or GPU version of TensorFlow 1.14:\n",
    "\n",
    "    CPU: *(Recommended as sufficient for this class)*\n",
    "    ```Shell\n",
    "    pip install --upgrade tensorflow==1.14\n",
    "    ```\n",
    "    \n",
    "    GPU (unavailable for macOS): (You'll also need to install some [Nvidia software](https://www.tensorflow.org/install/gpu))\n",
    "    ```Shell\n",
    "    pip install --upgrade tensorflow-gpu==1.14\n",
    "    ```\n",
    "\n",
    "    *Note: If you have GPUs available, you should use the GPU version for any serious research, as it is often 10-25x faster. For the purposes of this demo though, the CPU version is sufficent.*"
   ]
  },
  {
   "cell_type": "markdown",
   "metadata": {},
   "source": [
    "### Verify TensorFlow Installation"
   ]
  },
  {
   "cell_type": "markdown",
   "metadata": {},
   "source": [
    "1. While in your `tensorflow` environment, enter the Python shell with:\n",
    "    \n",
    "    ```Shell\n",
    "    python\n",
    "    ```\n",
    "    \n",
    "    Verify that your python version says Python 3.6.[x].\n",
    "    \n",
    "2. Enter this program into your Python shell:\n",
    "\n",
    "    ```Shell\n",
    "    import tensorflow as tf\n",
    "    print(tf.__version__)\n",
    "    hello = tf.constant(\"Hello, TensorFlow!\")\n",
    "    sess = tf.Session()\n",
    "    print(sess.run(hello))\n",
    "    ```\n",
    "    \n",
    "    Possible warnings that `The TensorFlow library wasn't compiled to use * instructions` can be ignored. These warnings state that building from source can lead to speed improvements, but these won't make a dramatic difference for these demos.\n",
    "    \n",
    "    Your command line should return:\n",
    "    \n",
    "    ```Shell\n",
    "    1.14.0\n",
    "    Hello, TensorFlow!\n",
    "    ```   \n",
    "    \n",
    "    Make sure that the returned TensorFlow version is 1.x. \n",
    "    It should be 1.14.0, but as long as it's TensorFlow 1.x, these notebooks should work fine. \n",
    "    If it's 2.x, make sure you did step 5 under \"Set-up a conda environment\" correctly.\n",
    "    It's fine if you see \"b'Hello, TensorFlow!'\"; the 'b' is just Python indicating that the result is bytes literal."
   ]
  }
 ],
 "metadata": {
  "kernelspec": {
   "display_name": "Python 3",
   "language": "python",
   "name": "python3"
  },
  "language_info": {
   "codemirror_mode": {
    "name": "ipython",
    "version": 3
   },
   "file_extension": ".py",
   "mimetype": "text/x-python",
   "name": "python",
   "nbconvert_exporter": "python",
   "pygments_lexer": "ipython3",
   "version": "3.6.9"
  }
 },
 "nbformat": 4,
 "nbformat_minor": 1
}
